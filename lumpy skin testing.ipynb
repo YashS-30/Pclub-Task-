{
  "cells": [
    {
      "cell_type": "code",
      "execution_count": 5,
      "id": "1c403fb2-66f6-4bb0-8bc2-ea60f25e30fe",
      "metadata": {
        "id": "1c403fb2-66f6-4bb0-8bc2-ea60f25e30fe"
      },
      "outputs": [],
      "source": [
        "import pandas as pd\n",
        "import numpy as np"
      ]
    },
    {
      "cell_type": "code",
      "execution_count": 6,
      "id": "b3519069-fb4a-41d0-98ce-258fde2bbc92",
      "metadata": {
        "id": "b3519069-fb4a-41d0-98ce-258fde2bbc92",
        "outputId": "9e9dd00c-6a37-4e5c-fc21-b1487a49f89e",
        "colab": {
          "base_uri": "https://localhost:8080/",
          "height": 206
        }
      },
      "outputs": [
        {
          "output_type": "execute_result",
          "data": {
            "text/plain": [
              "           x          y region     country reportingDate   cld   dtr    frs  \\\n",
              "0  90.380931  22.437184   Asia  Bangladesh     10/9/2020  41.6  12.8   0.00   \n",
              "1  87.854975  22.986757   Asia       India    20/12/2019  40.5  13.3   0.00   \n",
              "2  85.279935  23.610181   Asia       India    20/12/2019  27.3  13.6   0.08   \n",
              "3  81.564510  43.882221   Asia       China    25/10/2019  45.3  12.8  31.00   \n",
              "4  81.161057  43.834976   Asia       China    25/10/2019  38.8  13.2  31.00   \n",
              "\n",
              "   pet   pre   tmn   tmp   tmx   vap   wet  elevation  dominant_land_cover  \\\n",
              "0  2.3   1.7  12.7  19.1  25.5  15.7  0.00        147                    2   \n",
              "1  2.4   0.0  13.2  19.8  26.5  16.3  0.00        145                    2   \n",
              "2  2.3   0.6   9.4  16.2  23.0  13.0  0.98        158                    2   \n",
              "3  0.4   8.8 -22.5 -16.1  -9.7   0.9  4.64        178                    2   \n",
              "4  0.4  10.5 -20.4 -13.8  -7.2   1.2  1.69        185                    3   \n",
              "\n",
              "   X5_Ct_2010_Da  X5_Bf_2010_Da  lumpy  \n",
              "0   27970.983100    3691.746950      1  \n",
              "1   25063.646690     671.326701      1  \n",
              "2    6038.477155    1426.839831      1  \n",
              "3     760.703340       0.000000      1  \n",
              "4     270.367426       0.000000      1  "
            ],
            "text/html": [
              "<div>\n",
              "<style scoped>\n",
              "    .dataframe tbody tr th:only-of-type {\n",
              "        vertical-align: middle;\n",
              "    }\n",
              "\n",
              "    .dataframe tbody tr th {\n",
              "        vertical-align: top;\n",
              "    }\n",
              "\n",
              "    .dataframe thead th {\n",
              "        text-align: right;\n",
              "    }\n",
              "</style>\n",
              "<table border=\"1\" class=\"dataframe\">\n",
              "  <thead>\n",
              "    <tr style=\"text-align: right;\">\n",
              "      <th></th>\n",
              "      <th>x</th>\n",
              "      <th>y</th>\n",
              "      <th>region</th>\n",
              "      <th>country</th>\n",
              "      <th>reportingDate</th>\n",
              "      <th>cld</th>\n",
              "      <th>dtr</th>\n",
              "      <th>frs</th>\n",
              "      <th>pet</th>\n",
              "      <th>pre</th>\n",
              "      <th>tmn</th>\n",
              "      <th>tmp</th>\n",
              "      <th>tmx</th>\n",
              "      <th>vap</th>\n",
              "      <th>wet</th>\n",
              "      <th>elevation</th>\n",
              "      <th>dominant_land_cover</th>\n",
              "      <th>X5_Ct_2010_Da</th>\n",
              "      <th>X5_Bf_2010_Da</th>\n",
              "      <th>lumpy</th>\n",
              "    </tr>\n",
              "  </thead>\n",
              "  <tbody>\n",
              "    <tr>\n",
              "      <th>0</th>\n",
              "      <td>90.380931</td>\n",
              "      <td>22.437184</td>\n",
              "      <td>Asia</td>\n",
              "      <td>Bangladesh</td>\n",
              "      <td>10/9/2020</td>\n",
              "      <td>41.6</td>\n",
              "      <td>12.8</td>\n",
              "      <td>0.00</td>\n",
              "      <td>2.3</td>\n",
              "      <td>1.7</td>\n",
              "      <td>12.7</td>\n",
              "      <td>19.1</td>\n",
              "      <td>25.5</td>\n",
              "      <td>15.7</td>\n",
              "      <td>0.00</td>\n",
              "      <td>147</td>\n",
              "      <td>2</td>\n",
              "      <td>27970.983100</td>\n",
              "      <td>3691.746950</td>\n",
              "      <td>1</td>\n",
              "    </tr>\n",
              "    <tr>\n",
              "      <th>1</th>\n",
              "      <td>87.854975</td>\n",
              "      <td>22.986757</td>\n",
              "      <td>Asia</td>\n",
              "      <td>India</td>\n",
              "      <td>20/12/2019</td>\n",
              "      <td>40.5</td>\n",
              "      <td>13.3</td>\n",
              "      <td>0.00</td>\n",
              "      <td>2.4</td>\n",
              "      <td>0.0</td>\n",
              "      <td>13.2</td>\n",
              "      <td>19.8</td>\n",
              "      <td>26.5</td>\n",
              "      <td>16.3</td>\n",
              "      <td>0.00</td>\n",
              "      <td>145</td>\n",
              "      <td>2</td>\n",
              "      <td>25063.646690</td>\n",
              "      <td>671.326701</td>\n",
              "      <td>1</td>\n",
              "    </tr>\n",
              "    <tr>\n",
              "      <th>2</th>\n",
              "      <td>85.279935</td>\n",
              "      <td>23.610181</td>\n",
              "      <td>Asia</td>\n",
              "      <td>India</td>\n",
              "      <td>20/12/2019</td>\n",
              "      <td>27.3</td>\n",
              "      <td>13.6</td>\n",
              "      <td>0.08</td>\n",
              "      <td>2.3</td>\n",
              "      <td>0.6</td>\n",
              "      <td>9.4</td>\n",
              "      <td>16.2</td>\n",
              "      <td>23.0</td>\n",
              "      <td>13.0</td>\n",
              "      <td>0.98</td>\n",
              "      <td>158</td>\n",
              "      <td>2</td>\n",
              "      <td>6038.477155</td>\n",
              "      <td>1426.839831</td>\n",
              "      <td>1</td>\n",
              "    </tr>\n",
              "    <tr>\n",
              "      <th>3</th>\n",
              "      <td>81.564510</td>\n",
              "      <td>43.882221</td>\n",
              "      <td>Asia</td>\n",
              "      <td>China</td>\n",
              "      <td>25/10/2019</td>\n",
              "      <td>45.3</td>\n",
              "      <td>12.8</td>\n",
              "      <td>31.00</td>\n",
              "      <td>0.4</td>\n",
              "      <td>8.8</td>\n",
              "      <td>-22.5</td>\n",
              "      <td>-16.1</td>\n",
              "      <td>-9.7</td>\n",
              "      <td>0.9</td>\n",
              "      <td>4.64</td>\n",
              "      <td>178</td>\n",
              "      <td>2</td>\n",
              "      <td>760.703340</td>\n",
              "      <td>0.000000</td>\n",
              "      <td>1</td>\n",
              "    </tr>\n",
              "    <tr>\n",
              "      <th>4</th>\n",
              "      <td>81.161057</td>\n",
              "      <td>43.834976</td>\n",
              "      <td>Asia</td>\n",
              "      <td>China</td>\n",
              "      <td>25/10/2019</td>\n",
              "      <td>38.8</td>\n",
              "      <td>13.2</td>\n",
              "      <td>31.00</td>\n",
              "      <td>0.4</td>\n",
              "      <td>10.5</td>\n",
              "      <td>-20.4</td>\n",
              "      <td>-13.8</td>\n",
              "      <td>-7.2</td>\n",
              "      <td>1.2</td>\n",
              "      <td>1.69</td>\n",
              "      <td>185</td>\n",
              "      <td>3</td>\n",
              "      <td>270.367426</td>\n",
              "      <td>0.000000</td>\n",
              "      <td>1</td>\n",
              "    </tr>\n",
              "  </tbody>\n",
              "</table>\n",
              "</div>"
            ]
          },
          "metadata": {},
          "execution_count": 6
        }
      ],
      "source": [
        "url ='https://raw.githubusercontent.com/YashS-30/Pclub-Task-/refs/heads/main/Lumpy%20skin%20disease%20data.csv'\n",
        "df = pd.read_csv(url)\n",
        "df.head()"
      ]
    },
    {
      "cell_type": "code",
      "execution_count": 7,
      "id": "b9798efb-b09c-4605-98e5-abdf7b4e7ff5",
      "metadata": {
        "id": "b9798efb-b09c-4605-98e5-abdf7b4e7ff5",
        "outputId": "4f22ba6f-bc94-4d46-ac11-af3533128894",
        "colab": {
          "base_uri": "https://localhost:8080/"
        }
      },
      "outputs": [
        {
          "output_type": "execute_result",
          "data": {
            "text/plain": [
              "Index(['x', 'y', 'region', 'country', 'reportingDate', 'cld', 'dtr', 'frs',\n",
              "       'pet', 'pre', 'tmn', 'tmp', 'tmx', 'vap', 'wet', 'elevation',\n",
              "       'dominant_land_cover', 'X5_Ct_2010_Da', 'X5_Bf_2010_Da', 'lumpy'],\n",
              "      dtype='object')"
            ]
          },
          "metadata": {},
          "execution_count": 7
        }
      ],
      "source": [
        "df.columns"
      ]
    },
    {
      "cell_type": "code",
      "execution_count": 8,
      "id": "fbb82b00-94c6-47df-b9ff-368e675d33d1",
      "metadata": {
        "id": "fbb82b00-94c6-47df-b9ff-368e675d33d1",
        "outputId": "06ac6249-7e53-46b3-cd86-fbed87385361",
        "colab": {
          "base_uri": "https://localhost:8080/"
        }
      },
      "outputs": [
        {
          "output_type": "execute_result",
          "data": {
            "text/plain": [
              "array(['Asia', 'Europe', 'Africa', nan], dtype=object)"
            ]
          },
          "metadata": {},
          "execution_count": 8
        }
      ],
      "source": [
        "df['region'].unique()"
      ]
    },
    {
      "cell_type": "code",
      "execution_count": 9,
      "id": "bee9bc9b-3011-49fb-acbc-0d201d2c8c16",
      "metadata": {
        "id": "bee9bc9b-3011-49fb-acbc-0d201d2c8c16",
        "outputId": "6cf7916b-5d30-4c80-8a0f-6808e6f48bb2",
        "colab": {
          "base_uri": "https://localhost:8080/"
        }
      },
      "outputs": [
        {
          "output_type": "execute_result",
          "data": {
            "text/plain": [
              "region\n",
              "Europe    2172\n",
              "Asia       777\n",
              "Africa      90\n",
              "Name: count, dtype: int64"
            ]
          },
          "metadata": {},
          "execution_count": 9
        }
      ],
      "source": [
        "df['region'].value_counts()"
      ]
    },
    {
      "cell_type": "code",
      "execution_count": 10,
      "id": "5a9e85da-82c0-4630-99b5-c8f05fa7495d",
      "metadata": {
        "id": "5a9e85da-82c0-4630-99b5-c8f05fa7495d",
        "outputId": "4a4f5cd4-6a74-4df5-c77d-4df5f053fd1e",
        "colab": {
          "base_uri": "https://localhost:8080/"
        }
      },
      "outputs": [
        {
          "output_type": "execute_result",
          "data": {
            "text/plain": [
              "country\n",
              "Albania                        858\n",
              "Russian Federation             399\n",
              "Turkey                         237\n",
              "Israel                         233\n",
              "Greece                         226\n",
              "Serbia                         223\n",
              "Bulgaria                       202\n",
              "North Macedonia                186\n",
              "Montenegro                      82\n",
              "China                           71\n",
              "Namibia                         68\n",
              "West Bank                       50\n",
              "Lebanon                         34\n",
              "Iraq                            28\n",
              "Azerbaijan                      16\n",
              "Sri Lanka                       12\n",
              "India                           12\n",
              "Egypt                           12\n",
              "Bangladesh                      11\n",
              "Viet Nam                        11\n",
              "Georgia                         10\n",
              "Saudi Arabia                    10\n",
              "Bhutan                           8\n",
              "Nepal                            8\n",
              "Guinea                           6\n",
              "Iran  (Islamic Republic of)      5\n",
              "Kuwait                           5\n",
              "Syrian Arab Republic             3\n",
              "Kazakhstan                       2\n",
              "Jordan                           2\n",
              "Cyprus                           2\n",
              "Burundi                          2\n",
              "Angola                           1\n",
              "Armenia                          1\n",
              "Myanmar                          1\n",
              "Djibouti                         1\n",
              "Hong Kong, SAR                   1\n",
              "Name: count, dtype: int64"
            ]
          },
          "metadata": {},
          "execution_count": 10
        }
      ],
      "source": [
        "df['country'].value_counts()"
      ]
    },
    {
      "cell_type": "code",
      "execution_count": 11,
      "id": "a18e27cb-4cce-41de-a480-a10f48a1efd0",
      "metadata": {
        "id": "a18e27cb-4cce-41de-a480-a10f48a1efd0",
        "outputId": "ba368779-a7db-47da-ee5b-097b931be506",
        "colab": {
          "base_uri": "https://localhost:8080/"
        }
      },
      "outputs": [
        {
          "output_type": "stream",
          "name": "stdout",
          "text": [
            "x                          0\n",
            "y                          0\n",
            "region                 21764\n",
            "country                21764\n",
            "reportingDate          21764\n",
            "cld                        0\n",
            "dtr                        0\n",
            "frs                        0\n",
            "pet                        0\n",
            "pre                        0\n",
            "tmn                        0\n",
            "tmp                        0\n",
            "tmx                        0\n",
            "vap                        0\n",
            "wet                        0\n",
            "elevation                  0\n",
            "dominant_land_cover        0\n",
            "X5_Ct_2010_Da              0\n",
            "X5_Bf_2010_Da              0\n",
            "lumpy                      0\n",
            "dtype: int64\n"
          ]
        }
      ],
      "source": [
        "missing_values = df.isnull().sum()\n",
        "\n",
        "print(missing_values)\n"
      ]
    },
    {
      "cell_type": "code",
      "execution_count": 11,
      "id": "8c133e40-2651-421e-a1bc-4a5c50f78bff",
      "metadata": {
        "id": "8c133e40-2651-421e-a1bc-4a5c50f78bff"
      },
      "outputs": [],
      "source": []
    }
  ],
  "metadata": {
    "kernelspec": {
      "display_name": "Python 3 (ipykernel)",
      "language": "python",
      "name": "python3"
    },
    "language_info": {
      "codemirror_mode": {
        "name": "ipython",
        "version": 3
      },
      "file_extension": ".py",
      "mimetype": "text/x-python",
      "name": "python",
      "nbconvert_exporter": "python",
      "pygments_lexer": "ipython3",
      "version": "3.13.2"
    },
    "colab": {
      "provenance": []
    }
  },
  "nbformat": 4,
  "nbformat_minor": 5
}